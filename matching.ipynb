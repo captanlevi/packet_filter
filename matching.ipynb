{
 "cells": [
  {
   "cell_type": "code",
   "execution_count": 75,
   "metadata": {},
   "outputs": [],
   "source": [
    "import pandas as pd\n",
    "from tqdm import tqdm\n",
    "from scapy.all import PcapReader, rdpcap, PcapWriter"
   ]
  },
  {
   "cell_type": "code",
   "execution_count": null,
   "metadata": {},
   "outputs": [],
   "source": []
  },
  {
   "cell_type": "code",
   "execution_count": 76,
   "metadata": {},
   "outputs": [],
   "source": [
    "def get5TuplesFromCSV(csv_path):\n",
    "    def tupleExtract(row):\n",
    "        return (row.client_ip, row.server_ip, row.client_port, row.server_port, row.protocol)\n",
    "\n",
    "    df = pd.read_csv(csv_path)\n",
    "    df = df[df[\"type\"].isna() == False]\n",
    "    \n",
    "    required_types = [\"Video\", \"Social Media\", \"Software Update\", \"Download\", \"File Storage\", \"Conferencing\", \"Music\", \"Live Video\", \"Mail\"]\n",
    "    reliable_classifiers = [\"TPED.SNI.TLD\",\n",
    "        \"TPED.SNI.TLDR\", \"TPE.N.A2P\", \"TPED.SNI.TLD.P.S2T\", \"TPED.SNI.PGTLD.P\", \"TPED.SNI.EM\",\"TPED.SNI.TLD.P\",                     \n",
    "        \"TPED.SNI.TLD.PT\", \n",
    "        \"TPED.SNI.PGTLD.P.S2T\",\n",
    "        \"TPED.PT\",             \n",
    "        \"TPED.SNI.TLDR.PT\",\n",
    "        \"TPED.SNI.TLD.HURL\"]\n",
    "    \n",
    "    df = df[df.type.isin(required_types)]\n",
    "    df = df[df.classifier.isin(reliable_classifiers)]\n",
    "    tuples = df.apply(tupleExtract, axis = 1)\n",
    "    return set(tuples.values)"
   ]
  },
  {
   "cell_type": "code",
   "execution_count": 77,
   "metadata": {},
   "outputs": [],
   "source": [
    "tuples = get5TuplesFromCSV(csv_path= \"ground_truth.csv\")\n",
    "input_pcap_file = \"small_pcap_file.pcap\"\n",
    "output_pcap_file = 'filtered_packets.pcap'\n",
    "buffer_size = 50000  # Adjust the buffer size as needed\n",
    "buffer = []"
   ]
  },
  {
   "cell_type": "code",
   "execution_count": 78,
   "metadata": {},
   "outputs": [
    {
     "data": {
      "text/plain": [
       "1372827"
      ]
     },
     "execution_count": 78,
     "metadata": {},
     "output_type": "execute_result"
    }
   ],
   "source": [
    "len(tuples)"
   ]
  },
  {
   "cell_type": "code",
   "execution_count": 97,
   "metadata": {},
   "outputs": [],
   "source": [
    "list(tuples)[0]\n",
    "a = 0"
   ]
  },
  {
   "cell_type": "code",
   "execution_count": 98,
   "metadata": {},
   "outputs": [
    {
     "name": "stderr",
     "output_type": "stream",
     "text": [
      "100000it [00:14, 6697.10it/s]\n"
     ]
    }
   ],
   "source": [
    "with PcapReader(input_pcap_file) as pcap_reader,  PcapWriter(output_pcap_file, append=True) as pcap_writer:\n",
    "    for packet in tqdm(pcap_reader):\n",
    "        if \"IP\" in packet:\n",
    "            packet_ip = packet[\"IP\"]\n",
    "            src_ip = packet_ip.src\n",
    "            dst_ip = packet_ip.dst\n",
    "            proto = None\n",
    "            if \"TCP\" in packet:\n",
    "                src_port = packet[\"TCP\"].sport\n",
    "                dst_port = packet[\"TCP\"].dport\n",
    "                proto = 6\n",
    "            elif \"UDP\" in packet:\n",
    "                src_port = packet[\"UDP\"].sport\n",
    "                dst_port = packet[\"UDP\"].dport\n",
    "                proto = 11\n",
    "            else:\n",
    "                continue\n",
    "\n",
    "            \n",
    "            tp = (src_ip,dst_ip,src_port,dst_port,proto)\n",
    "            rev_tp = (dst_ip,src_ip,dst_port,src_port,proto)\n",
    "\n",
    "            if (tp not in tuples) and (rev_tp not in tuples):\n",
    "                continue\n",
    "\n",
    "            buffer.append(packet)\n",
    "            a += 1\n",
    "            if len(buffer) >= buffer_size:\n",
    "                for pkt in buffer:\n",
    "                    pcap_writer.write(pkt)\n",
    "                buffer.clear()\n",
    "    if buffer:\n",
    "        for pkt in buffer:\n",
    "            pcap_writer.write(pkt)\n",
    "            buffer.clear()\n"
   ]
  },
  {
   "cell_type": "code",
   "execution_count": 99,
   "metadata": {},
   "outputs": [
    {
     "data": {
      "text/plain": [
       "529"
      ]
     },
     "execution_count": 99,
     "metadata": {},
     "output_type": "execute_result"
    }
   ],
   "source": [
    "a"
   ]
  },
  {
   "cell_type": "code",
   "execution_count": 93,
   "metadata": {},
   "outputs": [],
   "source": [
    "go_pcaps = rdpcap(\"filtered_packets_go.pcap\")"
   ]
  },
  {
   "cell_type": "code",
   "execution_count": 94,
   "metadata": {},
   "outputs": [
    {
     "data": {
      "text/plain": [
       "529"
      ]
     },
     "execution_count": 94,
     "metadata": {},
     "output_type": "execute_result"
    }
   ],
   "source": [
    "len(go_pcaps)"
   ]
  },
  {
   "cell_type": "code",
   "execution_count": 95,
   "metadata": {},
   "outputs": [],
   "source": [
    "pcap = rdpcap(\"filtered_packets.pcap\")"
   ]
  },
  {
   "cell_type": "code",
   "execution_count": 96,
   "metadata": {},
   "outputs": [
    {
     "data": {
      "text/plain": [
       "3"
      ]
     },
     "execution_count": 96,
     "metadata": {},
     "output_type": "execute_result"
    }
   ],
   "source": [
    "len(pcap)"
   ]
  },
  {
   "cell_type": "code",
   "execution_count": null,
   "metadata": {},
   "outputs": [],
   "source": []
  }
 ],
 "metadata": {
  "kernelspec": {
   "display_name": "Python 3",
   "language": "python",
   "name": "python3"
  },
  "language_info": {
   "codemirror_mode": {
    "name": "ipython",
    "version": 3
   },
   "file_extension": ".py",
   "mimetype": "text/x-python",
   "name": "python",
   "nbconvert_exporter": "python",
   "pygments_lexer": "ipython3",
   "version": "3.10.12"
  }
 },
 "nbformat": 4,
 "nbformat_minor": 2
}
