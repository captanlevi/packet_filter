{
 "cells": [
  {
   "cell_type": "code",
   "execution_count": 1,
   "metadata": {},
   "outputs": [],
   "source": [
    "import json\n",
    "import pandas as pd\n",
    "import numpy as np\n",
    "from tqdm import tqdm\n",
    "import matplotlib.pyplot as plt"
   ]
  },
  {
   "cell_type": "code",
   "execution_count": 8,
   "metadata": {},
   "outputs": [
    {
     "data": {
      "text/plain": [
       "4.0"
      ]
     },
     "execution_count": 8,
     "metadata": {},
     "output_type": "execute_result"
    }
   ],
   "source": [
    "np.log10(10000)"
   ]
  },
  {
   "cell_type": "code",
   "execution_count": 2,
   "metadata": {},
   "outputs": [],
   "source": [
    "def getConcatDF(csv_path):\n",
    "    df = pd.read_csv(csv_path)\n",
    "    df.drop(columns= [\"Unnamed: 0\"], inplace= True) \n",
    "    mini_dfs = []\n",
    "\n",
    "    for flow_id, mini_df in df.groupby(by= \"FlowId\"):\n",
    "        mini_df.Timestamp = pd.to_datetime(mini_df.Timestamp, format = \"mixed\")\n",
    "        mini_df = mini_df.sort_values(by= \"Timestamp\")\n",
    "        mini_df = mini_df.iloc[:50]\n",
    "        mini_dfs.append(mini_df)\n",
    "    \n",
    "    pd.concat(mini_dfs,axis= 0).to_csv(\"truncated_final.csv\", index= False)\n",
    "\n",
    "    \n"
   ]
  },
  {
   "cell_type": "code",
   "execution_count": 3,
   "metadata": {},
   "outputs": [],
   "source": [
    "df = pd.read_csv(\"truncated_final.csv\")"
   ]
  },
  {
   "cell_type": "code",
   "execution_count": 6,
   "metadata": {},
   "outputs": [
    {
     "data": {
      "text/plain": [
       "Type\n",
       "File Storage       44600\n",
       "Video              32000\n",
       "Download           27100\n",
       "Software Update    25050\n",
       "Mail               12600\n",
       "Social Media        8250\n",
       "Music                700\n",
       "Name: count, dtype: int64"
      ]
     },
     "execution_count": 6,
     "metadata": {},
     "output_type": "execute_result"
    }
   ],
   "source": []
  },
  {
   "cell_type": "code",
   "execution_count": null,
   "metadata": {},
   "outputs": [],
   "source": []
  }
 ],
 "metadata": {
  "kernelspec": {
   "display_name": "Python 3",
   "language": "python",
   "name": "python3"
  },
  "language_info": {
   "codemirror_mode": {
    "name": "ipython",
    "version": 3
   },
   "file_extension": ".py",
   "mimetype": "text/x-python",
   "name": "python",
   "nbconvert_exporter": "python",
   "pygments_lexer": "ipython3",
   "version": "3.11.7"
  }
 },
 "nbformat": 4,
 "nbformat_minor": 2
}
